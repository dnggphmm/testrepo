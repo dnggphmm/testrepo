{
 "cells": [
  {
   "cell_type": "markdown",
   "id": "cab8d735-eba6-4574-a3f7-3e0398eba59d",
   "metadata": {},
   "source": [
    "# Data Science Tools and Ecosystem"
   ]
  },
  {
   "cell_type": "markdown",
   "id": "89b816a9-b863-4de4-a762-fb43f9d46098",
   "metadata": {},
   "source": [
    "In this notebook, Data Science Tools and Ecosystem are summarized."
   ]
  },
  {
   "cell_type": "markdown",
   "id": "c2eae0ac-0b53-4014-b2a8-a6edff626fe8",
   "metadata": {},
   "source": [
    "**Objectives:**"
   ]
  },
  {
   "cell_type": "markdown",
   "id": "980a2a2b-47ce-4b79-9b06-082d8b9f1752",
   "metadata": {},
   "source": [
    "* List of popular languages in Data Science\n",
    "* Commonly used libraries in Data Science\n",
    "* Data Science tools"
   ]
  },
  {
   "cell_type": "markdown",
   "id": "3d713d1d-baf9-4ceb-aa61-46233bd9b23f",
   "metadata": {},
   "source": [
    "Some of the popular languages that Data Scientists use are:"
   ]
  },
  {
   "cell_type": "markdown",
   "id": "41d4ee9a-32ed-4c75-93e2-f3857cc42d2b",
   "metadata": {},
   "source": [
    "1. Python\n",
    "2. R\n",
    "3. SQL"
   ]
  },
  {
   "cell_type": "markdown",
   "id": "ada92ad9-6893-460c-8193-5e0af308922a",
   "metadata": {},
   "source": [
    "Some of the commonly used libraries used by Data Scientists include:"
   ]
  },
  {
   "cell_type": "markdown",
   "id": "e01f1f54-8e10-46d3-8ee9-b99cab461d49",
   "metadata": {
    "tags": []
   },
   "source": [
    "1. NumPy\n",
    "2. Pandas\n",
    "3. Scikit-learn\n",
    "4. Matplotlib"
   ]
  },
  {
   "cell_type": "markdown",
   "id": "07d6b608-0128-4aa7-9574-05adfd03ea84",
   "metadata": {},
   "source": [
    "|Data Science Tools|\n",
    "|-----|\n",
    "| Weka |\n",
    "| Pandas |\n",
    "| KNIME |"
   ]
  },
  {
   "cell_type": "markdown",
   "id": "4730b83f-c68b-4a17-9413-b4c42faaa11d",
   "metadata": {},
   "source": [
    "### Below are a few examples of evaluating arithmetic expressions in Python"
   ]
  },
  {
   "cell_type": "code",
   "execution_count": null,
   "id": "4005e078-30a6-417e-8c0b-e1e84a4728f0",
   "metadata": {},
   "outputs": [],
   "source": [
    "#This a simple arithmetic expression to mutiply then add integers"
   ]
  },
  {
   "cell_type": "code",
   "execution_count": 2,
   "id": "9a935cb2-1d10-468c-8b47-d8820f2f0e87",
   "metadata": {
    "tags": []
   },
   "outputs": [
    {
     "data": {
      "text/plain": [
       "17"
      ]
     },
     "execution_count": 2,
     "metadata": {},
     "output_type": "execute_result"
    }
   ],
   "source": [
    "(3*4)+5"
   ]
  },
  {
   "cell_type": "code",
   "execution_count": null,
   "id": "d29416df-dfd1-4149-a1cd-51178dbeba7b",
   "metadata": {},
   "outputs": [],
   "source": [
    "#This will convert 200 minutes to hours by diving by 60"
   ]
  },
  {
   "cell_type": "code",
   "execution_count": 3,
   "id": "465740dc-2b87-46c9-920d-43f91aa7dfec",
   "metadata": {
    "tags": []
   },
   "outputs": [
    {
     "data": {
      "text/plain": [
       "3.3333333333333335"
      ]
     },
     "execution_count": 3,
     "metadata": {},
     "output_type": "execute_result"
    }
   ],
   "source": [
    "200/60"
   ]
  },
  {
   "cell_type": "markdown",
   "id": "8ee42e48-2522-41d9-8e8d-6837963d9b2a",
   "metadata": {},
   "source": [
    "## Author"
   ]
  },
  {
   "cell_type": "markdown",
   "id": "7583d273-954b-4ba1-80ad-f50bc0c7ed66",
   "metadata": {},
   "source": [
    "Pham Quoc Dung"
   ]
  },
  {
   "cell_type": "code",
   "execution_count": null,
   "id": "b4a25cdf-156c-4e95-9022-0a8ddce7d824",
   "metadata": {},
   "outputs": [],
   "source": []
  }
 ],
 "metadata": {
  "kernelspec": {
   "display_name": "Python",
   "language": "python",
   "name": "conda-env-python-py"
  },
  "language_info": {
   "codemirror_mode": {
    "name": "ipython",
    "version": 3
   },
   "file_extension": ".py",
   "mimetype": "text/x-python",
   "name": "python",
   "nbconvert_exporter": "python",
   "pygments_lexer": "ipython3",
   "version": "3.7.12"
  }
 },
 "nbformat": 4,
 "nbformat_minor": 5
}
